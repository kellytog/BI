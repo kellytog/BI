{
  "nbformat": 4,
  "nbformat_minor": 0,
  "metadata": {
    "colab": {
      "provenance": [],
      "authorship_tag": "ABX9TyPhstHFw+44bz+r7gtB8vPJ",
      "include_colab_link": true
    },
    "kernelspec": {
      "name": "python3",
      "display_name": "Python 3"
    },
    "language_info": {
      "name": "python"
    }
  },
  "cells": [
    {
      "cell_type": "markdown",
      "metadata": {
        "id": "view-in-github",
        "colab_type": "text"
      },
      "source": [
        "<a href=\"https://colab.research.google.com/github/kellytog/BI/blob/main/Reto_Challenge_1.ipynb\" target=\"_parent\"><img src=\"https://colab.research.google.com/assets/colab-badge.svg\" alt=\"Open In Colab\"/></a>"
      ]
    },
    {
      "cell_type": "markdown",
      "source": [
        "0. Primero cargo las librerias de trabajo"
      ],
      "metadata": {
        "id": "GhWsaqmpwOYL"
      }
    },
    {
      "cell_type": "code",
      "execution_count": null,
      "metadata": {
        "id": "fZlGalzawLZL"
      },
      "outputs": [],
      "source": [
        "import numpy as np\n",
        "import pandas as pd"
      ]
    },
    {
      "cell_type": "markdown",
      "source": [
        "1. cargo la base de datos"
      ],
      "metadata": {
        "id": "kNE33HndwoBH"
      }
    },
    {
      "cell_type": "code",
      "source": [
        "nxl ='/content/1. BD1_Longitudinal Survey_Int.xlsx'\n",
        "XDB=pd.read_excel(nxl)\n",
        "XDB.head(10)\n",
        "\n",
        "#selecciono variables de interes\n",
        "XDB=XDB[['Age', 'Mother_Edu','Father_Edu','Height','Weight','Income','Self_Esteem','FamilySize','Urban']]\n",
        "XDB.head(10)\n",
        "\n",
        "\n",
        "#separo variables de entrada y salida\n",
        "XD=XDB[['Age','Mother_Edu','Father_Edu','FamilySize','Self_Esteem','Height','Weight','Income']]\n",
        "YD=XDB['Urban']\n",
        "\n",
        "XD = XD.dropna()\n",
        "YD = YD.dropna()\n",
        "\n",
        "XD = XD[XD.index.isin(YD.index)]\n",
        "YD = YD[YD.index.isin(XD.index)]\n"
      ],
      "metadata": {
        "id": "RWurm3oBwqA5"
      },
      "execution_count": null,
      "outputs": []
    },
    {
      "cell_type": "code",
      "source": [
        "# Número total de datos en la base\n",
        "print(\"Número total de datos en la base:\", XDB.shape[0])\n",
        "\n",
        "ct = mnb.class_count_\n",
        "print(\"Como están separados los datos\", ct)\n",
        "print(\"El total de datos es:\", len(XD))\n",
        "print(\"Los datos porcentualmente están divididos:\", ct/len(XD))"
      ],
      "metadata": {
        "colab": {
          "base_uri": "https://localhost:8080/"
        },
        "id": "mTbtaTj9UQmS",
        "outputId": "918a521b-2b6f-4abf-ba32-c53fd1da46b4"
      },
      "execution_count": null,
      "outputs": [
        {
          "output_type": "stream",
          "name": "stdout",
          "text": [
            "Número total de datos en la base: 12686\n",
            "Como están separados los datos [1239. 4709.]\n",
            "El total de datos es: 5948\n",
            "Los datos porcentualmente están divididos: [0.20830531 0.79169469]\n"
          ]
        }
      ]
    },
    {
      "cell_type": "code",
      "source": [
        "from sklearn.naive_bayes import GaussianNB\n",
        "\n",
        "mnb=GaussianNB()\n",
        "mnb.fit(XD,YD)\n",
        "\n",
        "#obtenemos la info de edad\n",
        "u=mnb.theta_\n",
        "print(\"la media de la edad es:\\n\",u)\n",
        "var=mnb.var_\n",
        "sigma=np.sqrt(var)\n",
        "print(\"la desviacion estandar de la edad es:\\n\",sigma)\n",
        "\n",
        "#determino lim sup e inf de edad\n",
        "LS=u+sigma\n",
        "LI=u-sigma\n",
        "print(\"el limite superior de la edad es:\\n\",LS)\n",
        "print(\"el limite inferior de la edad es:\\n\",LI)\n"
      ],
      "metadata": {
        "colab": {
          "base_uri": "https://localhost:8080/"
        },
        "id": "yTuJFfP6XRhY",
        "outputId": "4db79978-baf9-49b7-f8d0-b583de5367fa"
      },
      "execution_count": null,
      "outputs": [
        {
          "output_type": "stream",
          "name": "stdout",
          "text": [
            "la media de la edad es:\n",
            " [[1.83640032e+01 1.07312349e+01 1.02711864e+01 4.73930589e+00\n",
            "  2.19951574e+01 6.72429379e+01 1.49003228e+02 3.01248854e+04]\n",
            " [1.83618603e+01 1.11613931e+01 1.12331705e+01 4.68103631e+00\n",
            "  2.25744319e+01 6.69116585e+01 1.44750903e+02 3.32736742e+04]]\n",
            "la desviacion estandar de la edad es:\n",
            " [[2.47260545e+00 3.15661127e+00 3.88837565e+00 2.55226748e+00\n",
            "  4.21650807e+00 4.08228636e+00 3.03486350e+01 3.16482374e+04]\n",
            " [2.47344359e+00 3.40066236e+00 4.11549881e+00 2.44205851e+00\n",
            "  4.19763081e+00 4.20193102e+00 3.00285301e+01 3.60897302e+04]]\n",
            "el limite superior de la edad es:\n",
            " [[2.08366087e+01 1.38878461e+01 1.41595621e+01 7.29157338e+00\n",
            "  2.62116655e+01 7.13252242e+01 1.79351863e+02 6.17731228e+04]\n",
            " [2.08353039e+01 1.45620554e+01 1.53486693e+01 7.12309482e+00\n",
            "  2.67720628e+01 7.11135895e+01 1.74779433e+02 6.93634044e+04]]\n",
            "el limite inferior de la edad es:\n",
            " [[ 1.58913978e+01  7.57462359e+00  6.38281079e+00  2.18703841e+00\n",
            "   1.77786493e+01  6.31606515e+01  1.18654593e+02 -1.52335198e+03]\n",
            " [ 1.58884167e+01  7.76073072e+00  7.11767172e+00  2.23897780e+00\n",
            "   1.83768011e+01  6.27097275e+01  1.14722372e+02 -2.81605593e+03]]\n"
          ]
        }
      ]
    },
    {
      "cell_type": "code",
      "source": [
        "#obtenemos la info de altura\n",
        "u=mnb.theta_\n",
        "print(\"la media de la altura es:\\n\",u)\n",
        "var=mnb.var_\n",
        "sigma=np.sqrt(var)\n",
        "print(\"la desviacion estandar de la altura es:\\n\",sigma)\n",
        "\n",
        "#determino lim sup e inf de altura\n",
        "LS=u+sigma\n",
        "LI=u-sigma\n",
        "print(\"el limite superior de la altura es:\\n\",LS)\n",
        "print(\"el limite inferior de la altura es:\\n\",LI)\n"
      ],
      "metadata": {
        "colab": {
          "base_uri": "https://localhost:8080/"
        },
        "id": "aFetyXV1x4nY",
        "outputId": "fea32abf-c665-48b3-e3d1-39eeb1ef103a"
      },
      "execution_count": null,
      "outputs": [
        {
          "output_type": "stream",
          "name": "stdout",
          "text": [
            "la media de la altura es:\n",
            " [[1.83640032e+01 1.07312349e+01 1.02711864e+01 4.73930589e+00\n",
            "  2.19951574e+01 6.72429379e+01 1.49003228e+02 3.01248854e+04]\n",
            " [1.83618603e+01 1.11613931e+01 1.12331705e+01 4.68103631e+00\n",
            "  2.25744319e+01 6.69116585e+01 1.44750903e+02 3.32736742e+04]]\n",
            "la desviacion estandar de la altura es:\n",
            " [[2.47260545e+00 3.15661127e+00 3.88837565e+00 2.55226748e+00\n",
            "  4.21650807e+00 4.08228636e+00 3.03486350e+01 3.16482374e+04]\n",
            " [2.47344359e+00 3.40066236e+00 4.11549881e+00 2.44205851e+00\n",
            "  4.19763081e+00 4.20193102e+00 3.00285301e+01 3.60897302e+04]]\n",
            "el limite superior de la altura es:\n",
            " [[2.08366087e+01 1.38878461e+01 1.41595621e+01 7.29157338e+00\n",
            "  2.62116655e+01 7.13252242e+01 1.79351863e+02 6.17731228e+04]\n",
            " [2.08353039e+01 1.45620554e+01 1.53486693e+01 7.12309482e+00\n",
            "  2.67720628e+01 7.11135895e+01 1.74779433e+02 6.93634044e+04]]\n",
            "el limite inferior de la altura es:\n",
            " [[ 1.58913978e+01  7.57462359e+00  6.38281079e+00  2.18703841e+00\n",
            "   1.77786493e+01  6.31606515e+01  1.18654593e+02 -1.52335198e+03]\n",
            " [ 1.58884167e+01  7.76073072e+00  7.11767172e+00  2.23897780e+00\n",
            "   1.83768011e+01  6.27097275e+01  1.14722372e+02 -2.81605593e+03]]\n"
          ]
        }
      ]
    },
    {
      "cell_type": "code",
      "source": [
        "#obtenemos la info del peso de las personas\n",
        "u=mnb.theta_\n",
        "print(\"la media del peso es:\\n\",u)\n",
        "var=mnb.var_\n",
        "sigma=np.sqrt(var)\n",
        "print(\"la desviacion estandar del peso es:\\n\",sigma)\n",
        "\n",
        "#determino lim sup e inf de peso\n",
        "LS=u+sigma\n",
        "LI=u-sigma\n",
        "print(\"el limite superior del peso es:\\n\",LS)\n",
        "print(\"el limite inferior del peso es:\\n\",LI)\n",
        "\n",
        "#evaluamos un solicitante\n",
        "XDS=[[34,12,15,2,24,69,160,48000]]\n",
        "ydp=mnb.predict(XDS) # se obtiene la prediccion\n",
        "print(\"la prediccion del solicitante es:\\n\",ydp)\n",
        "\n",
        "if ydp==0:\n",
        "  print(\"el solicitante no es urbano\")\n",
        "if ydp==1:\n",
        "  print(\"el solicitante es urbano\")\n"
      ],
      "metadata": {
        "colab": {
          "base_uri": "https://localhost:8080/"
        },
        "id": "M0yEzrfZyDUc",
        "outputId": "590251af-a3b9-44d3-b968-a6164d84bbf6"
      },
      "execution_count": null,
      "outputs": [
        {
          "output_type": "stream",
          "name": "stdout",
          "text": [
            "la media del peso es:\n",
            " [[1.83640032e+01 1.07312349e+01 1.02711864e+01 4.73930589e+00\n",
            "  2.19951574e+01 6.72429379e+01 1.49003228e+02 3.01248854e+04]\n",
            " [1.83618603e+01 1.11613931e+01 1.12331705e+01 4.68103631e+00\n",
            "  2.25744319e+01 6.69116585e+01 1.44750903e+02 3.32736742e+04]]\n",
            "la desviacion estandar del peso es:\n",
            " [[2.47260545e+00 3.15661127e+00 3.88837565e+00 2.55226748e+00\n",
            "  4.21650807e+00 4.08228636e+00 3.03486350e+01 3.16482374e+04]\n",
            " [2.47344359e+00 3.40066236e+00 4.11549881e+00 2.44205851e+00\n",
            "  4.19763081e+00 4.20193102e+00 3.00285301e+01 3.60897302e+04]]\n",
            "el limite superior del peso es:\n",
            " [[2.08366087e+01 1.38878461e+01 1.41595621e+01 7.29157338e+00\n",
            "  2.62116655e+01 7.13252242e+01 1.79351863e+02 6.17731228e+04]\n",
            " [2.08353039e+01 1.45620554e+01 1.53486693e+01 7.12309482e+00\n",
            "  2.67720628e+01 7.11135895e+01 1.74779433e+02 6.93634044e+04]]\n",
            "el limite inferior del peso es:\n",
            " [[ 1.58913978e+01  7.57462359e+00  6.38281079e+00  2.18703841e+00\n",
            "   1.77786493e+01  6.31606515e+01  1.18654593e+02 -1.52335198e+03]\n",
            " [ 1.58884167e+01  7.76073072e+00  7.11767172e+00  2.23897780e+00\n",
            "   1.83768011e+01  6.27097275e+01  1.14722372e+02 -2.81605593e+03]]\n",
            "el intervalo e:\n",
            " [[4.94521091e+00 6.31322255e+00 7.77675131e+00 5.10453497e+00\n",
            "  8.43301614e+00 8.16457273e+00 6.06972700e+01 6.32964747e+04]\n",
            " [4.94688718e+00 6.80132471e+00 8.23099761e+00 4.88411702e+00\n",
            "  8.39526163e+00 8.40386204e+00 6.00570601e+01 7.21794603e+04]]\n",
            "la prediccion del solicitante es:\n",
            " [1.]\n",
            "el solicitante es urbano\n",
            "Como están separados los datos [1239. 4709.]\n"
          ]
        },
        {
          "output_type": "stream",
          "name": "stderr",
          "text": [
            "/usr/local/lib/python3.11/dist-packages/sklearn/utils/validation.py:2739: UserWarning: X does not have valid feature names, but GaussianNB was fitted with feature names\n",
            "  warnings.warn(\n"
          ]
        }
      ]
    },
    {
      "cell_type": "code",
      "source": [
        "from sklearn.metrics import confusion_matrix\n",
        "\n",
        "#haga un barrido de todos los datos aquellos que pueden quedar mal\n",
        "ydp2=mnb.predict(XD)  #hagael pronostico para los datos base\n",
        "\n",
        "cm=confusion_matrix(YD,ydp2) #cree la matriz de confusion\n",
        "print(\"la matriz de confusion es:\\n\",cm)\n",
        "VN=cm[0,0]\n",
        "FP=cm[0,1]\n",
        "FN=cm[1,0]\n",
        "VP=cm[1,1]\n",
        "\n",
        "#metricas desempeño\n",
        "Ex=(VP+VN)/(VP+VN+FP+FN) #EXACTITUD: comportamiento general preaprobando\n",
        "print(\"la exactitud del modelo es:\\n\",Ex)\n",
        "\n",
        "TE=(FN+FP)/(VP+VN+FP+FN) #TASA DE ERROR: comportamiento general mal preaprobando\n",
        "print(\"la tasa de error del modelo es:\\n\",TE)\n",
        "\n",
        "Se=VP/(VP+FN) #SENSIBILIDAD: comportamiento correcto preaprobando sobre el total de los preaporbados\n",
        "print(\"la sensibilidad del modelo es:\\n\",Se)\n",
        "\n",
        "Sp=VN/(VN+FP) #ESPECIFICIDAD: comportamiento correcto preaprobando sobre el total de los no preaporbados\n",
        "print(\"la especificidad del modelo es:\\n\",Sp)\n",
        "\n",
        "Pr=VP/(VP+FP) #PRECISION: comportamiento correcto preaprobando sobre el total de los preaporbados\n",
        "print(\"la precision del modelo es:\\n\",Pr)\n",
        "\n",
        "PrNeg=VN/(VN+FN) #PRECISION NEGATIVA: comportamiento correcto preaprobando sobre el total de los no preaporbados\n",
        "print(\"la precision negativa del modelo es:\\n\",PrNeg)"
      ],
      "metadata": {
        "colab": {
          "base_uri": "https://localhost:8080/"
        },
        "id": "o_aSmH3dvc69",
        "outputId": "4f9bd462-5b11-4658-d674-311143cc6745"
      },
      "execution_count": null,
      "outputs": [
        {
          "output_type": "stream",
          "name": "stdout",
          "text": [
            "la matriz de confusion es:\n",
            " [[   3 1236]\n",
            " [   8 4701]]\n",
            "la exactitud del modelo es:\n",
            " 0.7908540685944856\n",
            "la tasa de error del modelo es:\n",
            " 0.20914593140551446\n",
            "la sensibilidad del modelo es:\n",
            " 0.9983011255043533\n",
            "la especificidad del modelo es:\n",
            " 0.002421307506053269\n",
            "la precision del modelo es:\n",
            " 0.7918140474987367\n",
            "la precision negativa del modelo es:\n",
            " 0.2727272727272727\n"
          ]
        }
      ]
    },
    {
      "cell_type": "markdown",
      "source": [
        "De acuerdo con la base de datos suministrada, tomamos como variables 'Age', 'Mother_Edu','Father_Edu','Height','Weight','Income','Self_Esteem','FamilySize','Urban'. La base de datos posee un total de 5948 datos en total divididos en 21% rurales y 79% urbanos.\n",
        "El modelo alcanzo una exactitud del 79% respecto a su tasa de error del 20%; ademas es importante resaltar su precision de 79% ya que nos muestra que el modelo tiene muy buen comportamiento frente a la toma de decisiones"
      ],
      "metadata": {
        "id": "g2rr1P2iBN1Y"
      }
    }
  ]
}