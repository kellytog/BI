{
  "nbformat": 4,
  "nbformat_minor": 0,
  "metadata": {
    "colab": {
      "provenance": [],
      "authorship_tag": "ABX9TyOeZFEI5+rkwMwXEVgIqbcG",
      "include_colab_link": true
    },
    "kernelspec": {
      "name": "python3",
      "display_name": "Python 3"
    },
    "language_info": {
      "name": "python"
    }
  },
  "cells": [
    {
      "cell_type": "markdown",
      "metadata": {
        "id": "view-in-github",
        "colab_type": "text"
      },
      "source": [
        "<a href=\"https://colab.research.google.com/github/kellytog/BI/blob/main/reto_2.ipynb\" target=\"_parent\"><img src=\"https://colab.research.google.com/assets/colab-badge.svg\" alt=\"Open In Colab\"/></a>"
      ]
    },
    {
      "cell_type": "markdown",
      "source": [
        "0. cargar las librerias con las que vamos a trabajar"
      ],
      "metadata": {
        "id": "9qppIeO9ISHu"
      }
    },
    {
      "cell_type": "code",
      "execution_count": null,
      "metadata": {
        "colab": {
          "base_uri": "https://localhost:8080/"
        },
        "id": "iDZZvSq4H_2b",
        "outputId": "bc26df92-ef02-463d-ad11-8514cab92d92"
      },
      "outputs": [
        {
          "output_type": "stream",
          "name": "stdout",
          "text": [
            "Mounted at /content/drive\n"
          ]
        }
      ],
      "source": [
        "# las dos librerias cientificas\n",
        "import numpy as np\n",
        "import pandas as pd\n",
        "\n",
        "#las librerias del arbol\n",
        "from sklearn.tree import DecisionTreeClassifier\n",
        "from sklearn.metrics import confusion_matrix\n",
        "\n",
        "#conectar al drive\n",
        "from google.colab import drive\n",
        "drive.mount('/content/drive')"
      ]
    },
    {
      "cell_type": "markdown",
      "source": [
        "1. cargamos la base de datos\n"
      ],
      "metadata": {
        "id": "wIvtYrIaI8Qm"
      }
    },
    {
      "cell_type": "code",
      "source": [
        "nxl='/content/drive/MyDrive/ANALITICA DE NEGOCIOS/2. CollegeAdmisions_Int_M.xlsx'\n",
        "XDB=pd.read_excel(nxl,sheet_name=0)\n",
        "XDB=XDB.dropna()\n",
        "\n",
        "XDB['Gender'] = XDB['Gender'].astype('category').cat.codes\n",
        "XDB['Admitted'] = XDB['Admitted'].astype('category').cat.codes\n",
        "\n",
        "XD=XDB[['Edu_Parent1','Edu_Parent2','Gender','White','Asian','HSGPA','SAT/ACT','Admitted']]\n",
        "#seleccionar las variables\n",
        "XD=XDB[['Edu_Parent1','Edu_Parent2','Gender','White','Asian','HSGPA','SAT/ACT']]\n",
        "yd=XDB[['Admitted']]\n",
        "\n",
        "# Imprime las primeras filas para verificar\n",
        "print(XD.head())"
      ],
      "metadata": {
        "colab": {
          "base_uri": "https://localhost:8080/"
        },
        "id": "d87VLWQsNgfe",
        "outputId": "e687742e-9beb-49a9-fe7b-78d7e6bf6d07"
      },
      "execution_count": null,
      "outputs": [
        {
          "output_type": "stream",
          "name": "stdout",
          "text": [
            "    Edu_Parent1  Edu_Parent2  Gender  White  Asian  HSGPA  SAT/ACT\n",
            "6             6            6       0      1      0   4.26     1430\n",
            "28            7            6       1      1      0   3.95     1340\n",
            "46            3            6       1      1      0   4.33     1200\n",
            "61            7            7       0      1      0   4.27     1530\n",
            "65            6            7       0      0      0   4.04     1270\n"
          ]
        }
      ]
    },
    {
      "cell_type": "markdown",
      "source": [
        "**Especificamos variables segun el libro**\n",
        "1. Applicant: Identificador único del solicitante.\n",
        "2. Edu_Parent1: Nivel educativo del primer padre (posiblemente en una escala numérica, donde valores más altos representan mayor educación).\n",
        "3. Edu_Parent2: Nivel educativo del segundo padre.\n",
        "4. Gender: Género del solicitante (M = Masculino, F = Femenino).\n",
        "5. White: Indicador binario (0 o 1) de si el solicitante se identifica como blanco.\n",
        "6. Asian: Indicador binario (0 o 1) de si el solicitante se identifica como asiático.\n",
        "7. HSGPA: Promedio de calificaciones en la escuela secundaria (escala de 0 a 4 o superior).\n",
        "8. SAT/ACT: Puntaje combinado en exámenes estandarizados (SAT o ACT).\n",
        "9. College: Área de estudio de interés (Ej: \"Business & Economics\", \"Math & Science\", etc.).\n",
        "10. Admitted: Indicador de si el solicitante fue admitido (Yes/No).\n",
        "11. Enrolled: Indicador de si el solicitante se inscribió tras ser admitido (Yes/No).\n",
        "12. College_GPA: Promedio de calificaciones en la universidad (si el estudiante se inscribió)."
      ],
      "metadata": {
        "id": "eYar7jI6cUUE"
      }
    },
    {
      "cell_type": "markdown",
      "source": [
        "**descripcion de los datos**\n",
        "De acuerdo con la base de datos de solicitantes de college admission, esta posee un total de 1528 datos totales divididos en 225 negados y 1303 admitidos, cada uno de los solicitantes de admision estara descrito en funcion de 7 variables que fueron especificadas en la parte superior que son 'Edu_Parent1','Edu_Parent2','Gender','White','Asian','HSGPA','SAT/ACT' que van a se consideradas nuestras variables de entrada y 'Admitted' como nuestra variable de salida, es decir, aquella variable que buscamos sea pronosticada por el modelo. en esta ocasion, dejamos por fuera las variables \"Enrolled\" y \"College_GPA\" debido a su poca variación en relación con la decisión de admisión. Ademas, cuando nos acercamos a visualizar nuestro arbol de decision, pordemos encontrar el indicador gini en 0 en 7 ocasiones, esto es muy positivo ya que quiere decir que en 7 tipos de casos posibles nuestro modelo es 100% efectivo a la hora de tomar una decision"
      ],
      "metadata": {
        "id": "2tSyXzGY2UHA"
      }
    },
    {
      "cell_type": "markdown",
      "source": [
        "2. HACEMOS EL TREE CLASSIFIER"
      ],
      "metadata": {
        "id": "QJCelfvZOKBC"
      }
    },
    {
      "cell_type": "code",
      "source": [
        "mar=DecisionTreeClassifier(criterion='gini',max_depth=4)\n",
        "mar.fit(XD,yd)\n",
        "\n",
        "#se procede con la grafica\n",
        "from pydotplus import graph_from_dot_data #me crea la grafica\n",
        "from sklearn.tree import export_graphviz#me exporta a PNG, JPEG,TIFF\n",
        "\n",
        "ve=['Edu_Parent1', 'Edu_Parent2', 'Gender', 'White', 'Asian', 'HSGPA', 'SAT/ACT'] #nombres para el arbol\n",
        "dot_data=export_graphviz(mar,feature_names=ve) #le dije que exporte el arbol y que le coloque los nombres para el grafico\n",
        "graph=graph_from_dot_data(dot_data)\n",
        "graph.write_png('2.ArbolDecision_reto.png')"
      ],
      "metadata": {
        "colab": {
          "base_uri": "https://localhost:8080/"
        },
        "id": "8_KPFVjMUb8q",
        "outputId": "07192d3d-2365-40aa-d293-f7d0e8330ead"
      },
      "execution_count": null,
      "outputs": [
        {
          "output_type": "execute_result",
          "data": {
            "text/plain": [
              "True"
            ]
          },
          "metadata": {},
          "execution_count": 3
        }
      ]
    },
    {
      "cell_type": "markdown",
      "source": [
        "Tomamos 4 niveles de análisis para el árbol de decisión, con el fin de identificar quienes han sido admitidos, esto se hace con max_depth"
      ],
      "metadata": {
        "id": "4eXPH0fldM3F"
      }
    },
    {
      "cell_type": "markdown",
      "source": [
        "3. aqui vamos a pronosticar si se aprueba o se niega a los solicitantes"
      ],
      "metadata": {
        "id": "EcM1EzuNRwdN"
      }
    },
    {
      "cell_type": "code",
      "source": [
        "XDB0=pd.read_excel(nxl,sheet_name=1) #leemos la hoja del excel\n",
        "XDB0.head(100)\n",
        "\n",
        "XDB0['Gender'] = XDB0['Gender'].astype('category').cat.codes\n",
        "\n",
        "#se crea la base de datos a pronosticar\n",
        "XD0=XDB0[['Edu_Parent1','Edu_Parent2','Gender','White','Asian','HSGPA','SAT/ACT']]\n",
        "\n",
        "#LE CALCULAMOS LA PREAPROBACION A LOS SOLICITANTES\n",
        "y_pred=mar.predict(XD0)\n",
        "\n",
        "#se crea el informe de excel\n",
        "df=pd.DataFrame(np.column_stack((XD0,y_pred))) #armamos tabla filas para los que no tienen pre, las variables con XD0 y y_pred para el pronostico\n",
        "df.columns=['Edu_Parent1','Edu_Parent2','Gender','White','Asian','HSGPA','SAT/ACT','Admitted']\n",
        "df.to_excel(\"Evaluacion aprobados.xlsx\")"
      ],
      "metadata": {
        "id": "LtZmU7NpRO83"
      },
      "execution_count": null,
      "outputs": []
    },
    {
      "cell_type": "markdown",
      "source": [
        "4. Aqui evaluamos el modelo"
      ],
      "metadata": {
        "id": "djxQfkfb1QE5"
      }
    },
    {
      "cell_type": "code",
      "source": [
        "from re import S\n",
        "ydp=mar.predict(XD) #PRONOSTICO SOBRE LA BASE DE DATOS ORIGINAL\n",
        "cm=confusion_matrix(yd,ydp)\n",
        "print(\"La matriz de  confusion es:\\n\",cm)\n",
        "\n",
        "VN=cm[0,0];FP=cm[0,1];FN=cm[1,0];VP=cm[1,1]\n",
        "Exactitud=(VP+VN)/(VP+VN+FP+FN)\n",
        "Sensibilidad=VP/(VP+FN)\n",
        "Especificidad=VN/(VN+FP)\n",
        "Precision=VP/(VP+FP)\n",
        "TasaError=(FP+FN)/(VP+VN+FP+FN)\n",
        "predneg=VN/(VN+FN)\n",
        "print(\"Tasa de error:\",TasaError)\n",
        "print(\"Tasa de prediccion negativa:\",predneg)\n",
        "print(\"Exactitud:\",Exactitud)\n",
        "print(\"Sensibilidad:\",Sensibilidad)\n",
        "print(\"Especificidad:\",Especificidad)\n",
        "print(\"Precision:\",Precision)\n",
        "\n"
      ],
      "metadata": {
        "colab": {
          "base_uri": "https://localhost:8080/"
        },
        "id": "mcUBMizAR9WS",
        "outputId": "0e6f1a01-6f84-456f-cb4e-0349be364057"
      },
      "execution_count": null,
      "outputs": [
        {
          "output_type": "stream",
          "name": "stdout",
          "text": [
            "La matriz de  confusion es:\n",
            " [[  20  205]\n",
            " [   2 1301]]\n",
            "Tasa de error: 0.1354712041884817\n",
            "Tasa de prediccion negativa: 0.9090909090909091\n",
            "Exactitud: 0.8645287958115183\n",
            "Sensibilidad: 0.9984650805832693\n",
            "Especificidad: 0.08888888888888889\n",
            "Precision: 0.8638778220451527\n"
          ]
        }
      ]
    },
    {
      "cell_type": "markdown",
      "source": [
        "**ANALISIS DE DATOS**\n",
        "la matriz de confusion muestra una predominancia por los valores verdaderos positivos que son 1301 a cmparacion de loa demas resultados que se pronostica un valor mucho menos, esto quiere decir que el modelo predice correctamente a la mayoría de los estudiantes admitidos, el siguiente valor son los falsos positivos con un valor de 205, El número de falsos negativos es bajo (2), lo cual es bueno, ya que indica que el modelo no está perdiendo a muchos estudiantes que realmente deberían ser admitidos. Lo anterior hizo que el modelo alcanzara valores por encima del 85% en promedio para los indices exactitud,sensibilidad, precision, lo que muestra claramente el buen funcionamiento del modelo frente al pronostico de la admision, La especificidad es muy baja (8.89%), lo que significa que el modelo tiene dificultades para identificar correctamente a los estudiantes que no deberían ser admitidos.\n",
        "El modelo muestra una sensibilidad muy cercana al 100% (99.85%), lo que indica que el modelo es excelente para identificar a los estudiantes que realmente deberían ser admitidos. una exactitud de 86.45%, lo que significa que predice correctamente la admisión en general en ese porcentaje de casos y con un valor muy similar a la exactitud tenemos La precisión, es del 86.39%, lo que indica que, de todos los estudiantes que el modelo predice que serán admitidos, el 86.39% realmente lo son."
      ],
      "metadata": {
        "id": "M4e_4Qfx1VpG"
      }
    }
  ]
}